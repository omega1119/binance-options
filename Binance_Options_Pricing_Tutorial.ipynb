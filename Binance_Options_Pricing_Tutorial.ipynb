{
 "cells": [
  {
   "cell_type": "markdown",
   "id": "765e410e",
   "metadata": {},
   "source": [
    "# Binance Options: Pricing & Greeks — Hands‑On Tutorial\n",
    "\n",
    "This notebook demonstrates **three classic methods** for European option pricing — **Black‑Scholes**, **Binomial (CRR)**, and **Monte Carlo** — then applies them to **Binance options** data (live if available, else a bundled sample).  \n",
    "We also **back out implied vol**, build an **IV smile**, and **validate Greeks**.\n",
    "\n",
    "> **Note**: The notebook can run fully offline using sample data. To switch to **live Binance** data, set `USE_LIVE = True` in the config cell below and ensure your environment has outbound internet."
   ]
  },
  {
   "cell_type": "markdown",
   "id": "b47142b7",
   "metadata": {},
   "source": [
    "## 0) Environment\n",
    "\n",
    "You'll need Python 3.10+, plus: `numpy`, `pandas`, `matplotlib`, and `requests`.  \n",
    "If you're running this in a fresh environment, install with:\n",
    "\n",
    "```bash\n",
    "pip install -r requirements.txt\n",
    "```"
   ]
  },
  {
   "cell_type": "code",
   "execution_count": 1,
   "id": "d807358d",
   "metadata": {},
   "outputs": [],
   "source": [
    "\n",
    "# 1) Imports & Config\n",
    "import os, sys, json, math, time, datetime\n",
    "import pandas as pd\n",
    "import numpy as np\n",
    "import matplotlib.pyplot as plt\n",
    "\n",
    "# local imports\n",
    "sys.path.append(\"src\")\n",
    "from option_math import bs_price, bs_greeks, implied_vol_bisect, crr_binomial_price, mc_price, parse_binance_symbol, year_fraction\n",
    "from binance_adapter import exchange_info, mark, index_price, load_sample_mark_data\n",
    "\n",
    "# ---- Toggle live data here ----\n",
    "USE_LIVE = True            # set True to fetch from Binance\n",
    "UNDERLYING = \"BTCUSDT\"      # for index price\n",
    "SAMPLE_PATH = \"data/sample_mark_data.json\"\n",
    "EXPIRY_FILTER = None        # e.g., \"250920\" to filter a specific expiry (YYMMDD). None = any\n"
   ]
  },
  {
   "cell_type": "code",
   "execution_count": 2,
   "id": "8bd62c4c",
   "metadata": {},
   "outputs": [
    {
     "name": "stdout",
     "output_type": "stream",
     "text": [
      "Loaded rows: 528 | spot = 114383.07934783\n"
     ]
    },
    {
     "data": {
      "application/vnd.microsoft.datawrangler.viewer.v0+json": {
       "columns": [
        {
         "name": "index",
         "rawType": "int64",
         "type": "integer"
        },
        {
         "name": "symbol",
         "rawType": "object",
         "type": "string"
        },
        {
         "name": "markPrice",
         "rawType": "object",
         "type": "string"
        },
        {
         "name": "bidIV",
         "rawType": "object",
         "type": "string"
        },
        {
         "name": "askIV",
         "rawType": "object",
         "type": "string"
        },
        {
         "name": "markIV",
         "rawType": "object",
         "type": "string"
        },
        {
         "name": "delta",
         "rawType": "object",
         "type": "string"
        },
        {
         "name": "theta",
         "rawType": "object",
         "type": "string"
        },
        {
         "name": "gamma",
         "rawType": "object",
         "type": "string"
        },
        {
         "name": "vega",
         "rawType": "object",
         "type": "string"
        },
        {
         "name": "highPriceLimit",
         "rawType": "object",
         "type": "string"
        },
        {
         "name": "lowPriceLimit",
         "rawType": "object",
         "type": "string"
        },
        {
         "name": "riskFreeInterest",
         "rawType": "object",
         "type": "string"
        }
       ],
       "ref": "723eb721-04b9-4bce-a2bd-b816df7115b7",
       "rows": [
        [
         "0",
         "BTC-250926-110000-C",
         "8021.1",
         "0.33081055",
         "-0.00000001",
         "0.359233",
         "0.67711871",
         "-105.11233715",
         "0.00001682",
         "129.70562944",
         "21316.6",
         "5",
         "0.06664314"
        ],
        [
         "1",
         "BTC-250926-110000-P",
         "2940",
         "0.36164284",
         "0.36318243",
         "0.36164284",
         "-0.32370881",
         "-64.59004954",
         "0.00002744",
         "129.84273425",
         "23673.8",
         "5",
         "0.06664314"
        ],
        [
         "2",
         "BTC-250926-100000-C",
         "16066",
         "0.37535667",
         "-0.00000001",
         "0.417053",
         "0.87209188",
         "-63.56566215",
         "0.00000945",
         "75.58670455",
         "26360.4",
         "5775",
         "0.06664314"
        ],
        [
         "3",
         "BTC-250926-100000-P",
         "1034.9",
         "0.41904628",
         "0.42035997",
         "0.41904628",
         "-0.12891008",
         "-43.78090933",
         "0.00001387",
         "75.99726001",
         "24948",
         "5",
         "0.06664314"
        ],
        [
         "4",
         "BTC-250926-55000-C",
         "59786.6",
         "0.0000006",
         "-0.00000001",
         "0.917075",
         "0.99648262",
         "-2.74893365",
         "0.00000056",
         "3.81469935",
         "70081",
         "49495",
         "0.06664314"
        ]
       ],
       "shape": {
        "columns": 12,
        "rows": 5
       }
      },
      "text/html": [
       "<div>\n",
       "<style scoped>\n",
       "    .dataframe tbody tr th:only-of-type {\n",
       "        vertical-align: middle;\n",
       "    }\n",
       "\n",
       "    .dataframe tbody tr th {\n",
       "        vertical-align: top;\n",
       "    }\n",
       "\n",
       "    .dataframe thead th {\n",
       "        text-align: right;\n",
       "    }\n",
       "</style>\n",
       "<table border=\"1\" class=\"dataframe\">\n",
       "  <thead>\n",
       "    <tr style=\"text-align: right;\">\n",
       "      <th></th>\n",
       "      <th>symbol</th>\n",
       "      <th>markPrice</th>\n",
       "      <th>bidIV</th>\n",
       "      <th>askIV</th>\n",
       "      <th>markIV</th>\n",
       "      <th>delta</th>\n",
       "      <th>theta</th>\n",
       "      <th>gamma</th>\n",
       "      <th>vega</th>\n",
       "      <th>highPriceLimit</th>\n",
       "      <th>lowPriceLimit</th>\n",
       "      <th>riskFreeInterest</th>\n",
       "    </tr>\n",
       "  </thead>\n",
       "  <tbody>\n",
       "    <tr>\n",
       "      <th>0</th>\n",
       "      <td>BTC-250926-110000-C</td>\n",
       "      <td>8021.1</td>\n",
       "      <td>0.33081055</td>\n",
       "      <td>-0.00000001</td>\n",
       "      <td>0.359233</td>\n",
       "      <td>0.67711871</td>\n",
       "      <td>-105.11233715</td>\n",
       "      <td>0.00001682</td>\n",
       "      <td>129.70562944</td>\n",
       "      <td>21316.6</td>\n",
       "      <td>5</td>\n",
       "      <td>0.06664314</td>\n",
       "    </tr>\n",
       "    <tr>\n",
       "      <th>1</th>\n",
       "      <td>BTC-250926-110000-P</td>\n",
       "      <td>2940</td>\n",
       "      <td>0.36164284</td>\n",
       "      <td>0.36318243</td>\n",
       "      <td>0.36164284</td>\n",
       "      <td>-0.32370881</td>\n",
       "      <td>-64.59004954</td>\n",
       "      <td>0.00002744</td>\n",
       "      <td>129.84273425</td>\n",
       "      <td>23673.8</td>\n",
       "      <td>5</td>\n",
       "      <td>0.06664314</td>\n",
       "    </tr>\n",
       "    <tr>\n",
       "      <th>2</th>\n",
       "      <td>BTC-250926-100000-C</td>\n",
       "      <td>16066</td>\n",
       "      <td>0.37535667</td>\n",
       "      <td>-0.00000001</td>\n",
       "      <td>0.417053</td>\n",
       "      <td>0.87209188</td>\n",
       "      <td>-63.56566215</td>\n",
       "      <td>0.00000945</td>\n",
       "      <td>75.58670455</td>\n",
       "      <td>26360.4</td>\n",
       "      <td>5775</td>\n",
       "      <td>0.06664314</td>\n",
       "    </tr>\n",
       "    <tr>\n",
       "      <th>3</th>\n",
       "      <td>BTC-250926-100000-P</td>\n",
       "      <td>1034.9</td>\n",
       "      <td>0.41904628</td>\n",
       "      <td>0.42035997</td>\n",
       "      <td>0.41904628</td>\n",
       "      <td>-0.12891008</td>\n",
       "      <td>-43.78090933</td>\n",
       "      <td>0.00001387</td>\n",
       "      <td>75.99726001</td>\n",
       "      <td>24948</td>\n",
       "      <td>5</td>\n",
       "      <td>0.06664314</td>\n",
       "    </tr>\n",
       "    <tr>\n",
       "      <th>4</th>\n",
       "      <td>BTC-250926-55000-C</td>\n",
       "      <td>59786.6</td>\n",
       "      <td>0.0000006</td>\n",
       "      <td>-0.00000001</td>\n",
       "      <td>0.917075</td>\n",
       "      <td>0.99648262</td>\n",
       "      <td>-2.74893365</td>\n",
       "      <td>0.00000056</td>\n",
       "      <td>3.81469935</td>\n",
       "      <td>70081</td>\n",
       "      <td>49495</td>\n",
       "      <td>0.06664314</td>\n",
       "    </tr>\n",
       "  </tbody>\n",
       "</table>\n",
       "</div>"
      ],
      "text/plain": [
       "                symbol markPrice       bidIV        askIV      markIV  \\\n",
       "0  BTC-250926-110000-C    8021.1  0.33081055  -0.00000001    0.359233   \n",
       "1  BTC-250926-110000-P      2940  0.36164284   0.36318243  0.36164284   \n",
       "2  BTC-250926-100000-C     16066  0.37535667  -0.00000001    0.417053   \n",
       "3  BTC-250926-100000-P    1034.9  0.41904628   0.42035997  0.41904628   \n",
       "4   BTC-250926-55000-C   59786.6   0.0000006  -0.00000001    0.917075   \n",
       "\n",
       "         delta          theta       gamma          vega highPriceLimit  \\\n",
       "0   0.67711871  -105.11233715  0.00001682  129.70562944        21316.6   \n",
       "1  -0.32370881   -64.59004954  0.00002744  129.84273425        23673.8   \n",
       "2   0.87209188   -63.56566215  0.00000945   75.58670455        26360.4   \n",
       "3  -0.12891008   -43.78090933  0.00001387   75.99726001          24948   \n",
       "4   0.99648262    -2.74893365  0.00000056    3.81469935          70081   \n",
       "\n",
       "  lowPriceLimit riskFreeInterest  \n",
       "0             5       0.06664314  \n",
       "1             5       0.06664314  \n",
       "2          5775       0.06664314  \n",
       "3             5       0.06664314  \n",
       "4         49495       0.06664314  "
      ]
     },
     "execution_count": 2,
     "metadata": {},
     "output_type": "execute_result"
    }
   ],
   "source": [
    "\n",
    "# 2) Load Data (Live -> fallback to sample)\n",
    "def load_data() -> pd.DataFrame:\n",
    "    if USE_LIVE:\n",
    "        try:\n",
    "            info = exchange_info()  # GET /eapi/v1/exchangeInfo\n",
    "            # pick BTC options\n",
    "            syms = [s for s in info[\"optionSymbols\"] if s.get(\"underlying\") == UNDERLYING]\n",
    "            # optional expiry filter\n",
    "            if EXPIRY_FILTER:\n",
    "                syms = [s for s in syms if EXPIRY_FILTER in s[\"symbol\"]]\n",
    "            # fetch mark data for all symbols in chunks\n",
    "            # If you hit rate limits, consider batching or querying per expiry\n",
    "            marks = mark()  # GET /eapi/v1/mark  (all symbols)\n",
    "            df_m = pd.DataFrame(marks)\n",
    "            # narrow to symbols we saw in exchangeInfo (safer)\n",
    "            df_m = df_m[df_m[\"symbol\"].isin([s[\"symbol\"] for s in syms])].copy()\n",
    "            # get index (spot) price for UNDERLYING\n",
    "            idx = index_price(UNDERLYING)     # GET /eapi/v1/index\n",
    "            spot = float(idx.get(\"indexPrice\") or idx.get(\"price\") or np.nan)\n",
    "            return df_m, spot\n",
    "        except Exception as e:\n",
    "            print(\"Live fetch failed; falling back to sample. Reason:\", repr(e))\n",
    "    # offline fallback\n",
    "    sample = load_sample_mark_data(SAMPLE_PATH)\n",
    "    df_m = pd.DataFrame(sample)\n",
    "    # use a rough spot from symbols (~ATM strike), or default\n",
    "    spot_guess = 65000.0\n",
    "    return df_m, spot_guess\n",
    "\n",
    "df_raw, spot = load_data()\n",
    "print(\"Loaded rows:\", len(df_raw), \"| spot =\", spot)\n",
    "df_raw.head()\n"
   ]
  },
  {
   "cell_type": "code",
   "execution_count": 3,
   "id": "fec0f592",
   "metadata": {},
   "outputs": [
    {
     "name": "stderr",
     "output_type": "stream",
     "text": [
      "/var/folders/8t/py7199996lzcf46ws17_9lp80000gn/T/ipykernel_57161/2074403356.py:7: DeprecationWarning: datetime.datetime.utcnow() is deprecated and scheduled for removal in a future version. Use timezone-aware objects to represent datetimes in UTC: datetime.datetime.now(datetime.UTC).\n",
      "  now = datetime.datetime.utcnow().timestamp()\n"
     ]
    },
    {
     "data": {
      "application/vnd.microsoft.datawrangler.viewer.v0+json": {
       "columns": [
        {
         "name": "index",
         "rawType": "int64",
         "type": "integer"
        },
        {
         "name": "symbol",
         "rawType": "object",
         "type": "string"
        },
        {
         "name": "markPrice",
         "rawType": "float64",
         "type": "float"
        },
        {
         "name": "bidIV",
         "rawType": "float64",
         "type": "float"
        },
        {
         "name": "askIV",
         "rawType": "float64",
         "type": "float"
        },
        {
         "name": "markIV",
         "rawType": "float64",
         "type": "float"
        },
        {
         "name": "delta",
         "rawType": "float64",
         "type": "float"
        },
        {
         "name": "theta",
         "rawType": "float64",
         "type": "float"
        },
        {
         "name": "gamma",
         "rawType": "float64",
         "type": "float"
        },
        {
         "name": "vega",
         "rawType": "float64",
         "type": "float"
        },
        {
         "name": "highPriceLimit",
         "rawType": "object",
         "type": "string"
        },
        {
         "name": "lowPriceLimit",
         "rawType": "object",
         "type": "string"
        },
        {
         "name": "riskFreeInterest",
         "rawType": "float64",
         "type": "float"
        },
        {
         "name": "base",
         "rawType": "object",
         "type": "string"
        },
        {
         "name": "expiry",
         "rawType": "object",
         "type": "unknown"
        },
        {
         "name": "K",
         "rawType": "float64",
         "type": "float"
        },
        {
         "name": "opt",
         "rawType": "object",
         "type": "string"
        },
        {
         "name": "T",
         "rawType": "float64",
         "type": "float"
        },
        {
         "name": "r",
         "rawType": "float64",
         "type": "float"
        },
        {
         "name": "q",
         "rawType": "float64",
         "type": "float"
        }
       ],
       "ref": "197794a8-7c39-4845-85c3-20fadd1f9295",
       "rows": [
        [
         "0",
         "BTC-250821-108000-C",
         "6394.2",
         "6e-07",
         "-1e-08",
         "0.664624",
         "0.99445004",
         "-38.15217839",
         "7.72e-06",
         "0.62084764",
         "16688.6",
         "5",
         "0.05039909",
         "BTC",
         "2025-08-21",
         "108000.0",
         "C",
         "0.0011702533502345276",
         "0.05039909",
         "0.0"
        ],
        [
         "1",
         "BTC-250821-108000-P",
         "4.9",
         "0.67028701",
         "0.7696563",
         "0.67028701",
         "-0.00589656",
         "-55.21131573",
         "5.94e-06",
         "0.6551454",
         "27295",
         "5",
         "0.05039909",
         "BTC",
         "2025-08-21",
         "108000.0",
         "P",
         "0.001170253349470947",
         "0.05039909",
         "0.0"
        ],
        [
         "2",
         "BTC-250821-110000-C",
         "4402.4",
         "6e-07",
         "-1e-08",
         "0.539864",
         "0.98333668",
         "-99.65899179",
         "2.017e-05",
         "1.62174357",
         "14696.8",
         "5",
         "0.05039909",
         "BTC",
         "2025-08-21",
         "110000.0",
         "C",
         "0.0011702533493802246",
         "0.05039909",
         "0.0"
        ],
        [
         "3",
         "BTC-250821-110000-P",
         "12.7",
         "0.52178085",
         "0.55319846",
         "0.539864",
         "-0.01666332",
         "-102.02986072",
         "1.971e-05",
         "1.62174357",
         "30160",
         "5",
         "0.05039909",
         "BTC",
         "2025-08-21",
         "110000.0",
         "P",
         "0.001170253349281942",
         "0.05039909",
         "0.0"
        ],
        [
         "4",
         "BTC-250821-111000-C",
         "3412.8",
         "6e-07",
         "-1e-08",
         "0.475312",
         "0.96843173",
         "-170.66559276",
         "3.455e-05",
         "2.77722885",
         "13707.2",
         "5",
         "0.05039909",
         "BTC",
         "2025-08-21",
         "111000.0",
         "C",
         "0.0011702533490324553",
         "0.05039909",
         "0.0"
        ]
       ],
       "shape": {
        "columns": 19,
        "rows": 5
       }
      },
      "text/html": [
       "<div>\n",
       "<style scoped>\n",
       "    .dataframe tbody tr th:only-of-type {\n",
       "        vertical-align: middle;\n",
       "    }\n",
       "\n",
       "    .dataframe tbody tr th {\n",
       "        vertical-align: top;\n",
       "    }\n",
       "\n",
       "    .dataframe thead th {\n",
       "        text-align: right;\n",
       "    }\n",
       "</style>\n",
       "<table border=\"1\" class=\"dataframe\">\n",
       "  <thead>\n",
       "    <tr style=\"text-align: right;\">\n",
       "      <th></th>\n",
       "      <th>symbol</th>\n",
       "      <th>markPrice</th>\n",
       "      <th>bidIV</th>\n",
       "      <th>askIV</th>\n",
       "      <th>markIV</th>\n",
       "      <th>delta</th>\n",
       "      <th>theta</th>\n",
       "      <th>gamma</th>\n",
       "      <th>vega</th>\n",
       "      <th>highPriceLimit</th>\n",
       "      <th>lowPriceLimit</th>\n",
       "      <th>riskFreeInterest</th>\n",
       "      <th>base</th>\n",
       "      <th>expiry</th>\n",
       "      <th>K</th>\n",
       "      <th>opt</th>\n",
       "      <th>T</th>\n",
       "      <th>r</th>\n",
       "      <th>q</th>\n",
       "    </tr>\n",
       "  </thead>\n",
       "  <tbody>\n",
       "    <tr>\n",
       "      <th>0</th>\n",
       "      <td>BTC-250821-108000-C</td>\n",
       "      <td>6394.2</td>\n",
       "      <td>6.000000e-07</td>\n",
       "      <td>-1.000000e-08</td>\n",
       "      <td>0.664624</td>\n",
       "      <td>0.994450</td>\n",
       "      <td>-38.152178</td>\n",
       "      <td>0.000008</td>\n",
       "      <td>0.620848</td>\n",
       "      <td>16688.6</td>\n",
       "      <td>5</td>\n",
       "      <td>0.050399</td>\n",
       "      <td>BTC</td>\n",
       "      <td>2025-08-21</td>\n",
       "      <td>108000.0</td>\n",
       "      <td>C</td>\n",
       "      <td>0.00117</td>\n",
       "      <td>0.050399</td>\n",
       "      <td>0.0</td>\n",
       "    </tr>\n",
       "    <tr>\n",
       "      <th>1</th>\n",
       "      <td>BTC-250821-108000-P</td>\n",
       "      <td>4.9</td>\n",
       "      <td>6.702870e-01</td>\n",
       "      <td>7.696563e-01</td>\n",
       "      <td>0.670287</td>\n",
       "      <td>-0.005897</td>\n",
       "      <td>-55.211316</td>\n",
       "      <td>0.000006</td>\n",
       "      <td>0.655145</td>\n",
       "      <td>27295</td>\n",
       "      <td>5</td>\n",
       "      <td>0.050399</td>\n",
       "      <td>BTC</td>\n",
       "      <td>2025-08-21</td>\n",
       "      <td>108000.0</td>\n",
       "      <td>P</td>\n",
       "      <td>0.00117</td>\n",
       "      <td>0.050399</td>\n",
       "      <td>0.0</td>\n",
       "    </tr>\n",
       "    <tr>\n",
       "      <th>2</th>\n",
       "      <td>BTC-250821-110000-C</td>\n",
       "      <td>4402.4</td>\n",
       "      <td>6.000000e-07</td>\n",
       "      <td>-1.000000e-08</td>\n",
       "      <td>0.539864</td>\n",
       "      <td>0.983337</td>\n",
       "      <td>-99.658992</td>\n",
       "      <td>0.000020</td>\n",
       "      <td>1.621744</td>\n",
       "      <td>14696.8</td>\n",
       "      <td>5</td>\n",
       "      <td>0.050399</td>\n",
       "      <td>BTC</td>\n",
       "      <td>2025-08-21</td>\n",
       "      <td>110000.0</td>\n",
       "      <td>C</td>\n",
       "      <td>0.00117</td>\n",
       "      <td>0.050399</td>\n",
       "      <td>0.0</td>\n",
       "    </tr>\n",
       "    <tr>\n",
       "      <th>3</th>\n",
       "      <td>BTC-250821-110000-P</td>\n",
       "      <td>12.7</td>\n",
       "      <td>5.217808e-01</td>\n",
       "      <td>5.531985e-01</td>\n",
       "      <td>0.539864</td>\n",
       "      <td>-0.016663</td>\n",
       "      <td>-102.029861</td>\n",
       "      <td>0.000020</td>\n",
       "      <td>1.621744</td>\n",
       "      <td>30160</td>\n",
       "      <td>5</td>\n",
       "      <td>0.050399</td>\n",
       "      <td>BTC</td>\n",
       "      <td>2025-08-21</td>\n",
       "      <td>110000.0</td>\n",
       "      <td>P</td>\n",
       "      <td>0.00117</td>\n",
       "      <td>0.050399</td>\n",
       "      <td>0.0</td>\n",
       "    </tr>\n",
       "    <tr>\n",
       "      <th>4</th>\n",
       "      <td>BTC-250821-111000-C</td>\n",
       "      <td>3412.8</td>\n",
       "      <td>6.000000e-07</td>\n",
       "      <td>-1.000000e-08</td>\n",
       "      <td>0.475312</td>\n",
       "      <td>0.968432</td>\n",
       "      <td>-170.665593</td>\n",
       "      <td>0.000035</td>\n",
       "      <td>2.777229</td>\n",
       "      <td>13707.2</td>\n",
       "      <td>5</td>\n",
       "      <td>0.050399</td>\n",
       "      <td>BTC</td>\n",
       "      <td>2025-08-21</td>\n",
       "      <td>111000.0</td>\n",
       "      <td>C</td>\n",
       "      <td>0.00117</td>\n",
       "      <td>0.050399</td>\n",
       "      <td>0.0</td>\n",
       "    </tr>\n",
       "  </tbody>\n",
       "</table>\n",
       "</div>"
      ],
      "text/plain": [
       "                symbol  markPrice         bidIV         askIV    markIV  \\\n",
       "0  BTC-250821-108000-C     6394.2  6.000000e-07 -1.000000e-08  0.664624   \n",
       "1  BTC-250821-108000-P        4.9  6.702870e-01  7.696563e-01  0.670287   \n",
       "2  BTC-250821-110000-C     4402.4  6.000000e-07 -1.000000e-08  0.539864   \n",
       "3  BTC-250821-110000-P       12.7  5.217808e-01  5.531985e-01  0.539864   \n",
       "4  BTC-250821-111000-C     3412.8  6.000000e-07 -1.000000e-08  0.475312   \n",
       "\n",
       "      delta       theta     gamma      vega highPriceLimit lowPriceLimit  \\\n",
       "0  0.994450  -38.152178  0.000008  0.620848        16688.6             5   \n",
       "1 -0.005897  -55.211316  0.000006  0.655145          27295             5   \n",
       "2  0.983337  -99.658992  0.000020  1.621744        14696.8             5   \n",
       "3 -0.016663 -102.029861  0.000020  1.621744          30160             5   \n",
       "4  0.968432 -170.665593  0.000035  2.777229        13707.2             5   \n",
       "\n",
       "   riskFreeInterest base      expiry         K opt        T         r    q  \n",
       "0          0.050399  BTC  2025-08-21  108000.0   C  0.00117  0.050399  0.0  \n",
       "1          0.050399  BTC  2025-08-21  108000.0   P  0.00117  0.050399  0.0  \n",
       "2          0.050399  BTC  2025-08-21  110000.0   C  0.00117  0.050399  0.0  \n",
       "3          0.050399  BTC  2025-08-21  110000.0   P  0.00117  0.050399  0.0  \n",
       "4          0.050399  BTC  2025-08-21  111000.0   C  0.00117  0.050399  0.0  "
      ]
     },
     "execution_count": 3,
     "metadata": {},
     "output_type": "execute_result"
    }
   ],
   "source": [
    "\n",
    "# 3) Tidy / parse & compute time to expiry\n",
    "def parse_symbol_row(sym: str):\n",
    "    base, expiry, K, opt = parse_binance_symbol(sym)\n",
    "    return base, expiry, float(K), opt\n",
    "\n",
    "def compute_T(expiry: datetime.date) -> float:\n",
    "    now = datetime.datetime.utcnow().timestamp()\n",
    "    exp_ts = datetime.datetime(expiry.year, expiry.month, expiry.day, 8, 0).timestamp()  # assume 08:00 UTC settlement\n",
    "    return year_fraction(now, exp_ts)\n",
    "\n",
    "df = df_raw.copy()\n",
    "# ensure numeric fields\n",
    "for col in [\"markPrice\", \"bidIV\", \"askIV\", \"markIV\", \"delta\", \"theta\", \"gamma\", \"vega\", \"riskFreeInterest\"]:\n",
    "    if col in df.columns:\n",
    "        df[col] = pd.to_numeric(df[col], errors=\"coerce\")\n",
    "\n",
    "parsed = df[\"symbol\"].apply(parse_symbol_row)\n",
    "df[\"base\"] = parsed.apply(lambda t: t[0])\n",
    "df[\"expiry\"] = parsed.apply(lambda t: t[1])\n",
    "df[\"K\"] = parsed.apply(lambda t: t[2])\n",
    "df[\"opt\"] = parsed.apply(lambda t: t[3])\n",
    "\n",
    "df[\"T\"] = df[\"expiry\"].apply(compute_T).clip(lower=1e-6)\n",
    "df[\"r\"] = np.where(df[\"riskFreeInterest\"].notna(), df[\"riskFreeInterest\"].astype(float), 0.05)\n",
    "df[\"q\"] = 0.0  # no dividend yield for BTC/ETH\n",
    "\n",
    "df.sort_values([\"expiry\", \"K\", \"opt\"], inplace=True)\n",
    "df.reset_index(drop=True, inplace=True)\n",
    "df.head()\n"
   ]
  },
  {
   "cell_type": "markdown",
   "id": "c1666973",
   "metadata": {},
   "source": [
    "## 1) Black–Scholes pricing & consistency check\n",
    "\n",
    "We’ll re-price each quote using Black–Scholes with `markIV` and compare to `markPrice` to see how close Binance’s **mark** is to the model value."
   ]
  },
  {
   "cell_type": "code",
   "execution_count": 4,
   "id": "eb8e0ede",
   "metadata": {},
   "outputs": [
    {
     "data": {
      "application/vnd.microsoft.datawrangler.viewer.v0+json": {
       "columns": [
        {
         "name": "index",
         "rawType": "int64",
         "type": "integer"
        },
        {
         "name": "symbol",
         "rawType": "object",
         "type": "string"
        },
        {
         "name": "markPrice",
         "rawType": "float64",
         "type": "float"
        },
        {
         "name": "markIV",
         "rawType": "float64",
         "type": "float"
        },
        {
         "name": "bs_mark",
         "rawType": "float64",
         "type": "float"
        },
        {
         "name": "bs_err",
         "rawType": "float64",
         "type": "float"
        }
       ],
       "ref": "ded663fd-969c-4099-8e1c-42dbe40ba731",
       "rows": [
        [
         "0",
         "BTC-250821-108000-C",
         "6394.2",
         "0.664624",
         "6394.088083214825",
         "-0.11191678517479886"
        ],
        [
         "1",
         "BTC-250821-108000-P",
         "4.9",
         "0.67028701",
         "5.000350898482111",
         "0.10035089848211065"
        ],
        [
         "2",
         "BTC-250821-110000-C",
         "4402.4",
         "0.539864",
         "4402.283258147319",
         "-0.11674185268020665"
        ],
        [
         "3",
         "BTC-250821-110000-P",
         "12.7",
         "0.539864",
         "12.716334206585543",
         "0.016334206585543853"
        ],
        [
         "4",
         "BTC-250821-111000-C",
         "3412.8",
         "0.475312",
         "3412.6597795660346",
         "-0.14022043396562367"
        ],
        [
         "5",
         "BTC-250821-111000-P",
         "23.0",
         "0.475312",
         "23.033877660785947",
         "0.03387766078594723"
        ],
        [
         "6",
         "BTC-250821-112000-C",
         "2435.2",
         "0.40893",
         "2435.1141817864846",
         "-0.08581821351526742"
        ],
        [
         "7",
         "BTC-250821-112000-P",
         "49.9",
         "0.41795552",
         "50.00413031739117",
         "0.10413031739117429"
        ],
        [
         "8",
         "BTC-250821-113000-C",
         "1469.9",
         "0.31698227",
         "1469.864182608042",
         "-0.03581739195806222"
        ],
        [
         "9",
         "BTC-250821-113000-P",
         "99.2",
         "0.339295",
         "99.24544706475353",
         "0.04544706475353166"
        ]
       ],
       "shape": {
        "columns": 5,
        "rows": 10
       }
      },
      "text/html": [
       "<div>\n",
       "<style scoped>\n",
       "    .dataframe tbody tr th:only-of-type {\n",
       "        vertical-align: middle;\n",
       "    }\n",
       "\n",
       "    .dataframe tbody tr th {\n",
       "        vertical-align: top;\n",
       "    }\n",
       "\n",
       "    .dataframe thead th {\n",
       "        text-align: right;\n",
       "    }\n",
       "</style>\n",
       "<table border=\"1\" class=\"dataframe\">\n",
       "  <thead>\n",
       "    <tr style=\"text-align: right;\">\n",
       "      <th></th>\n",
       "      <th>symbol</th>\n",
       "      <th>markPrice</th>\n",
       "      <th>markIV</th>\n",
       "      <th>bs_mark</th>\n",
       "      <th>bs_err</th>\n",
       "    </tr>\n",
       "  </thead>\n",
       "  <tbody>\n",
       "    <tr>\n",
       "      <th>0</th>\n",
       "      <td>BTC-250821-108000-C</td>\n",
       "      <td>6394.2</td>\n",
       "      <td>0.664624</td>\n",
       "      <td>6394.088083</td>\n",
       "      <td>-0.111917</td>\n",
       "    </tr>\n",
       "    <tr>\n",
       "      <th>1</th>\n",
       "      <td>BTC-250821-108000-P</td>\n",
       "      <td>4.9</td>\n",
       "      <td>0.670287</td>\n",
       "      <td>5.000351</td>\n",
       "      <td>0.100351</td>\n",
       "    </tr>\n",
       "    <tr>\n",
       "      <th>2</th>\n",
       "      <td>BTC-250821-110000-C</td>\n",
       "      <td>4402.4</td>\n",
       "      <td>0.539864</td>\n",
       "      <td>4402.283258</td>\n",
       "      <td>-0.116742</td>\n",
       "    </tr>\n",
       "    <tr>\n",
       "      <th>3</th>\n",
       "      <td>BTC-250821-110000-P</td>\n",
       "      <td>12.7</td>\n",
       "      <td>0.539864</td>\n",
       "      <td>12.716334</td>\n",
       "      <td>0.016334</td>\n",
       "    </tr>\n",
       "    <tr>\n",
       "      <th>4</th>\n",
       "      <td>BTC-250821-111000-C</td>\n",
       "      <td>3412.8</td>\n",
       "      <td>0.475312</td>\n",
       "      <td>3412.659780</td>\n",
       "      <td>-0.140220</td>\n",
       "    </tr>\n",
       "    <tr>\n",
       "      <th>5</th>\n",
       "      <td>BTC-250821-111000-P</td>\n",
       "      <td>23.0</td>\n",
       "      <td>0.475312</td>\n",
       "      <td>23.033878</td>\n",
       "      <td>0.033878</td>\n",
       "    </tr>\n",
       "    <tr>\n",
       "      <th>6</th>\n",
       "      <td>BTC-250821-112000-C</td>\n",
       "      <td>2435.2</td>\n",
       "      <td>0.408930</td>\n",
       "      <td>2435.114182</td>\n",
       "      <td>-0.085818</td>\n",
       "    </tr>\n",
       "    <tr>\n",
       "      <th>7</th>\n",
       "      <td>BTC-250821-112000-P</td>\n",
       "      <td>49.9</td>\n",
       "      <td>0.417956</td>\n",
       "      <td>50.004130</td>\n",
       "      <td>0.104130</td>\n",
       "    </tr>\n",
       "    <tr>\n",
       "      <th>8</th>\n",
       "      <td>BTC-250821-113000-C</td>\n",
       "      <td>1469.9</td>\n",
       "      <td>0.316982</td>\n",
       "      <td>1469.864183</td>\n",
       "      <td>-0.035817</td>\n",
       "    </tr>\n",
       "    <tr>\n",
       "      <th>9</th>\n",
       "      <td>BTC-250821-113000-P</td>\n",
       "      <td>99.2</td>\n",
       "      <td>0.339295</td>\n",
       "      <td>99.245447</td>\n",
       "      <td>0.045447</td>\n",
       "    </tr>\n",
       "  </tbody>\n",
       "</table>\n",
       "</div>"
      ],
      "text/plain": [
       "                symbol  markPrice    markIV      bs_mark    bs_err\n",
       "0  BTC-250821-108000-C     6394.2  0.664624  6394.088083 -0.111917\n",
       "1  BTC-250821-108000-P        4.9  0.670287     5.000351  0.100351\n",
       "2  BTC-250821-110000-C     4402.4  0.539864  4402.283258 -0.116742\n",
       "3  BTC-250821-110000-P       12.7  0.539864    12.716334  0.016334\n",
       "4  BTC-250821-111000-C     3412.8  0.475312  3412.659780 -0.140220\n",
       "5  BTC-250821-111000-P       23.0  0.475312    23.033878  0.033878\n",
       "6  BTC-250821-112000-C     2435.2  0.408930  2435.114182 -0.085818\n",
       "7  BTC-250821-112000-P       49.9  0.417956    50.004130  0.104130\n",
       "8  BTC-250821-113000-C     1469.9  0.316982  1469.864183 -0.035817\n",
       "9  BTC-250821-113000-P       99.2  0.339295    99.245447  0.045447"
      ]
     },
     "execution_count": 4,
     "metadata": {},
     "output_type": "execute_result"
    }
   ],
   "source": [
    "\n",
    "def bs_from_row(S, row):\n",
    "    return bs_price(S, row[\"K\"], row[\"r\"], row[\"q\"], row[\"markIV\"], row[\"T\"], row[\"opt\"])\n",
    "\n",
    "df[\"bs_mark\"] = df.apply(lambda r: bs_from_row(spot, r), axis=1)\n",
    "df[\"bs_err\"] = df[\"bs_mark\"] - df[\"markPrice\"]\n",
    "df[[\"symbol\", \"markPrice\", \"markIV\", \"bs_mark\", \"bs_err\"]].head(10)\n"
   ]
  },
  {
   "cell_type": "markdown",
   "id": "d8cebf55",
   "metadata": {},
   "source": [
    "## 2) Implied volatility (from price)\n",
    "\n",
    "Now invert Black–Scholes to recover **implied volatility** from the observed `markPrice` and compare to the quoted `markIV`."
   ]
  },
  {
   "cell_type": "code",
   "execution_count": 5,
   "id": "48879fc5",
   "metadata": {},
   "outputs": [
    {
     "data": {
      "application/vnd.microsoft.datawrangler.viewer.v0+json": {
       "columns": [
        {
         "name": "index",
         "rawType": "int64",
         "type": "integer"
        },
        {
         "name": "symbol",
         "rawType": "object",
         "type": "string"
        },
        {
         "name": "markIV",
         "rawType": "float64",
         "type": "float"
        },
        {
         "name": "iv_backed",
         "rawType": "float64",
         "type": "float"
        },
        {
         "name": "iv_diff",
         "rawType": "float64",
         "type": "float"
        }
       ],
       "ref": "01be0419-8305-4db6-878b-5e34f105f200",
       "rows": [
        [
         "0",
         "BTC-250821-108000-C",
         "0.664624",
         "0.6664113054343238",
         "0.001787305434323816"
        ],
        [
         "1",
         "BTC-250821-108000-P",
         "0.67028701",
         "0.6687440817526654",
         "-0.0015429282473345962"
        ],
        [
         "2",
         "BTC-250821-110000-C",
         "0.539864",
         "0.5405817065881361",
         "0.00071770658813608"
        ],
        [
         "3",
         "BTC-250821-110000-P",
         "0.539864",
         "0.5397632325335814",
         "-0.00010076746641862755"
        ],
        [
         "4",
         "BTC-250821-111000-C",
         "0.475312",
         "0.47581596445414986",
         "0.0005039644541498522"
        ],
        [
         "5",
         "BTC-250821-111000-P",
         "0.475312",
         "0.47518996679759584",
         "-0.00012203320240417037"
        ],
        [
         "6",
         "BTC-250821-112000-C",
         "0.40893",
         "0.40910345584873387",
         "0.00017345584873385"
        ],
        [
         "7",
         "BTC-250821-112000-P",
         "0.41795552",
         "0.41775484479018593",
         "-0.00020067520981409404"
        ],
        [
         "8",
         "BTC-250821-113000-C",
         "0.31698227",
         "0.3170258488145121",
         "4.3578814512112984e-05"
        ],
        [
         "9",
         "BTC-250821-113000-P",
         "0.339295",
         "0.33924399026663227",
         "-5.100973336774617e-05"
        ]
       ],
       "shape": {
        "columns": 4,
        "rows": 10
       }
      },
      "text/html": [
       "<div>\n",
       "<style scoped>\n",
       "    .dataframe tbody tr th:only-of-type {\n",
       "        vertical-align: middle;\n",
       "    }\n",
       "\n",
       "    .dataframe tbody tr th {\n",
       "        vertical-align: top;\n",
       "    }\n",
       "\n",
       "    .dataframe thead th {\n",
       "        text-align: right;\n",
       "    }\n",
       "</style>\n",
       "<table border=\"1\" class=\"dataframe\">\n",
       "  <thead>\n",
       "    <tr style=\"text-align: right;\">\n",
       "      <th></th>\n",
       "      <th>symbol</th>\n",
       "      <th>markIV</th>\n",
       "      <th>iv_backed</th>\n",
       "      <th>iv_diff</th>\n",
       "    </tr>\n",
       "  </thead>\n",
       "  <tbody>\n",
       "    <tr>\n",
       "      <th>0</th>\n",
       "      <td>BTC-250821-108000-C</td>\n",
       "      <td>0.664624</td>\n",
       "      <td>0.666411</td>\n",
       "      <td>0.001787</td>\n",
       "    </tr>\n",
       "    <tr>\n",
       "      <th>1</th>\n",
       "      <td>BTC-250821-108000-P</td>\n",
       "      <td>0.670287</td>\n",
       "      <td>0.668744</td>\n",
       "      <td>-0.001543</td>\n",
       "    </tr>\n",
       "    <tr>\n",
       "      <th>2</th>\n",
       "      <td>BTC-250821-110000-C</td>\n",
       "      <td>0.539864</td>\n",
       "      <td>0.540582</td>\n",
       "      <td>0.000718</td>\n",
       "    </tr>\n",
       "    <tr>\n",
       "      <th>3</th>\n",
       "      <td>BTC-250821-110000-P</td>\n",
       "      <td>0.539864</td>\n",
       "      <td>0.539763</td>\n",
       "      <td>-0.000101</td>\n",
       "    </tr>\n",
       "    <tr>\n",
       "      <th>4</th>\n",
       "      <td>BTC-250821-111000-C</td>\n",
       "      <td>0.475312</td>\n",
       "      <td>0.475816</td>\n",
       "      <td>0.000504</td>\n",
       "    </tr>\n",
       "    <tr>\n",
       "      <th>5</th>\n",
       "      <td>BTC-250821-111000-P</td>\n",
       "      <td>0.475312</td>\n",
       "      <td>0.475190</td>\n",
       "      <td>-0.000122</td>\n",
       "    </tr>\n",
       "    <tr>\n",
       "      <th>6</th>\n",
       "      <td>BTC-250821-112000-C</td>\n",
       "      <td>0.408930</td>\n",
       "      <td>0.409103</td>\n",
       "      <td>0.000173</td>\n",
       "    </tr>\n",
       "    <tr>\n",
       "      <th>7</th>\n",
       "      <td>BTC-250821-112000-P</td>\n",
       "      <td>0.417956</td>\n",
       "      <td>0.417755</td>\n",
       "      <td>-0.000201</td>\n",
       "    </tr>\n",
       "    <tr>\n",
       "      <th>8</th>\n",
       "      <td>BTC-250821-113000-C</td>\n",
       "      <td>0.316982</td>\n",
       "      <td>0.317026</td>\n",
       "      <td>0.000044</td>\n",
       "    </tr>\n",
       "    <tr>\n",
       "      <th>9</th>\n",
       "      <td>BTC-250821-113000-P</td>\n",
       "      <td>0.339295</td>\n",
       "      <td>0.339244</td>\n",
       "      <td>-0.000051</td>\n",
       "    </tr>\n",
       "  </tbody>\n",
       "</table>\n",
       "</div>"
      ],
      "text/plain": [
       "                symbol    markIV  iv_backed   iv_diff\n",
       "0  BTC-250821-108000-C  0.664624   0.666411  0.001787\n",
       "1  BTC-250821-108000-P  0.670287   0.668744 -0.001543\n",
       "2  BTC-250821-110000-C  0.539864   0.540582  0.000718\n",
       "3  BTC-250821-110000-P  0.539864   0.539763 -0.000101\n",
       "4  BTC-250821-111000-C  0.475312   0.475816  0.000504\n",
       "5  BTC-250821-111000-P  0.475312   0.475190 -0.000122\n",
       "6  BTC-250821-112000-C  0.408930   0.409103  0.000173\n",
       "7  BTC-250821-112000-P  0.417956   0.417755 -0.000201\n",
       "8  BTC-250821-113000-C  0.316982   0.317026  0.000044\n",
       "9  BTC-250821-113000-P  0.339295   0.339244 -0.000051"
      ]
     },
     "execution_count": 5,
     "metadata": {},
     "output_type": "execute_result"
    }
   ],
   "source": [
    "\n",
    "def impvol_from_row(S, row):\n",
    "    return implied_vol_bisect(row[\"markPrice\"], S, row[\"K\"], row[\"r\"], row[\"q\"], row[\"T\"], row[\"opt\"])\n",
    "\n",
    "df[\"iv_backed\"] = df.apply(lambda r: impvol_from_row(spot, r), axis=1)\n",
    "df[\"iv_diff\"] = df[\"iv_backed\"] - df[\"markIV\"]\n",
    "df[[\"symbol\",\"markIV\",\"iv_backed\",\"iv_diff\"]].head(10)\n"
   ]
  },
  {
   "cell_type": "markdown",
   "id": "d6541971",
   "metadata": {},
   "source": [
    "## 3) IV smile for one expiry"
   ]
  },
  {
   "cell_type": "code",
   "execution_count": 6,
   "id": "f3f9cfda",
   "metadata": {},
   "outputs": [
    {
     "data": {
      "image/png": "[encoded data removed]",
      "text/plain": [
       "<Figure size 640x480 with 1 Axes>"
      ]
     },
     "metadata": {},
     "output_type": "display_data"
    }
   ],
   "source": [
    "\n",
    "# pick the nearest expiry\n",
    "first_expiry = df[\"expiry\"].min()\n",
    "dfe = df[df[\"expiry\"] == first_expiry].copy()\n",
    "dfe_calls = dfe[dfe[\"opt\"] == \"C\"].copy()\n",
    "\n",
    "plt.figure()\n",
    "plt.scatter(dfe_calls[\"K\"], dfe_calls[\"iv_backed\"])\n",
    "plt.title(f\"IV Smile — {first_expiry} (Calls)\")\n",
    "plt.xlabel(\"Strike\")\n",
    "plt.ylabel(\"Implied Volatility\")\n",
    "plt.show()\n"
   ]
  },
  {
   "cell_type": "markdown",
   "id": "12943306",
   "metadata": {},
   "source": [
    "## 4) Greeks check (our formulas vs Binance)\n",
    "\n",
    "We compute Greeks using our Black–Scholes functions and compare to Binance’s reported greeks from `/eapi/v1/mark`."
   ]
  },
  {
   "cell_type": "code",
   "execution_count": 7,
   "id": "c4b159a9",
   "metadata": {},
   "outputs": [
    {
     "data": {
      "application/vnd.microsoft.datawrangler.viewer.v0+json": {
       "columns": [
        {
         "name": "index",
         "rawType": "int64",
         "type": "integer"
        },
        {
         "name": "symbol",
         "rawType": "object",
         "type": "string"
        },
        {
         "name": "delta_binance",
         "rawType": "float64",
         "type": "float"
        },
        {
         "name": "delta_ours",
         "rawType": "float64",
         "type": "float"
        },
        {
         "name": "gamma_binance",
         "rawType": "float64",
         "type": "float"
        },
        {
         "name": "gamma_ours",
         "rawType": "float64",
         "type": "float"
        },
        {
         "name": "theta_binance",
         "rawType": "float64",
         "type": "float"
        },
        {
         "name": "theta_ours",
         "rawType": "float64",
         "type": "float"
        },
        {
         "name": "vega_binance",
         "rawType": "float64",
         "type": "float"
        },
        {
         "name": "vega_ours",
         "rawType": "float64",
         "type": "float"
        }
       ],
       "ref": "8b759d3a-5f75-442a-a139-cba482d711c1",
       "rows": [
        [
         "0",
         "BTC-250821-115000-C",
         "0.27484533",
         "0.27479122823517454",
         "0.00033291",
         "0.00033041282135327747",
         "-391.23811201",
         "-145437.9808078673",
         "13.05307031",
         "1305.145153560587"
        ]
       ],
       "shape": {
        "columns": 9,
        "rows": 1
       }
      },
      "text/html": [
       "<div>\n",
       "<style scoped>\n",
       "    .dataframe tbody tr th:only-of-type {\n",
       "        vertical-align: middle;\n",
       "    }\n",
       "\n",
       "    .dataframe tbody tr th {\n",
       "        vertical-align: top;\n",
       "    }\n",
       "\n",
       "    .dataframe thead th {\n",
       "        text-align: right;\n",
       "    }\n",
       "</style>\n",
       "<table border=\"1\" class=\"dataframe\">\n",
       "  <thead>\n",
       "    <tr style=\"text-align: right;\">\n",
       "      <th></th>\n",
       "      <th>symbol</th>\n",
       "      <th>delta_binance</th>\n",
       "      <th>delta_ours</th>\n",
       "      <th>gamma_binance</th>\n",
       "      <th>gamma_ours</th>\n",
       "      <th>theta_binance</th>\n",
       "      <th>theta_ours</th>\n",
       "      <th>vega_binance</th>\n",
       "      <th>vega_ours</th>\n",
       "    </tr>\n",
       "  </thead>\n",
       "  <tbody>\n",
       "    <tr>\n",
       "      <th>0</th>\n",
       "      <td>BTC-250821-115000-C</td>\n",
       "      <td>0.274845</td>\n",
       "      <td>0.274791</td>\n",
       "      <td>0.000333</td>\n",
       "      <td>0.00033</td>\n",
       "      <td>-391.238112</td>\n",
       "      <td>-145437.980808</td>\n",
       "      <td>13.05307</td>\n",
       "      <td>1305.145154</td>\n",
       "    </tr>\n",
       "  </tbody>\n",
       "</table>\n",
       "</div>"
      ],
      "text/plain": [
       "                symbol  delta_binance  delta_ours  gamma_binance  gamma_ours  \\\n",
       "0  BTC-250821-115000-C       0.274845    0.274791       0.000333     0.00033   \n",
       "\n",
       "   theta_binance     theta_ours  vega_binance    vega_ours  \n",
       "0    -391.238112 -145437.980808      13.05307  1305.145154  "
      ]
     },
     "execution_count": 7,
     "metadata": {},
     "output_type": "execute_result"
    }
   ],
   "source": [
    "\n",
    "def our_greeks_from_row(S, row):\n",
    "    return bs_greeks(S, row[\"K\"], row[\"r\"], row[\"q\"], row[\"markIV\"], row[\"T\"], row[\"opt\"])\n",
    "\n",
    "sample_row = dfe.iloc[len(dfe)//2]  # a mid-strike row\n",
    "g = our_greeks_from_row(spot, sample_row)\n",
    "\n",
    "compare = {\n",
    "    \"symbol\": sample_row[\"symbol\"],\n",
    "    \"delta_binance\": sample_row.get(\"delta\", np.nan),\n",
    "    \"delta_ours\": g[\"delta\"],\n",
    "    \"gamma_binance\": sample_row.get(\"gamma\", np.nan),\n",
    "    \"gamma_ours\": g[\"gamma\"],\n",
    "    \"theta_binance\": sample_row.get(\"theta\", np.nan),\n",
    "    \"theta_ours\": g[\"theta\"],\n",
    "    \"vega_binance\": sample_row.get(\"vega\", np.nan),\n",
    "    \"vega_ours\": g[\"vega\"],\n",
    "}\n",
    "pd.DataFrame([compare])\n"
   ]
  },
  {
   "cell_type": "markdown",
   "id": "79ca39bc",
   "metadata": {},
   "source": [
    "## 5) Binomial (CRR) vs Black–Scholes"
   ]
  },
  {
   "cell_type": "code",
   "execution_count": 8,
   "id": "31e34eab",
   "metadata": {},
   "outputs": [
    {
     "data": {
      "application/vnd.microsoft.datawrangler.viewer.v0+json": {
       "columns": [
        {
         "name": "index",
         "rawType": "int64",
         "type": "integer"
        },
        {
         "name": "symbol",
         "rawType": "object",
         "type": "string"
        },
        {
         "name": "BS",
         "rawType": "float64",
         "type": "float"
        },
        {
         "name": "CRR N=100",
         "rawType": "float64",
         "type": "float"
        },
        {
         "name": "CRR N=500",
         "rawType": "float64",
         "type": "float"
        }
       ],
       "ref": "70645304-3b97-45c5-8aed-8d16f1a45583",
       "rows": [
        [
         "0",
         "BTC-250821-115000-C",
         "169.94978809543318",
         "169.29449466712464",
         "169.9661695167865"
        ]
       ],
       "shape": {
        "columns": 4,
        "rows": 1
       }
      },
      "text/html": [
       "<div>\n",
       "<style scoped>\n",
       "    .dataframe tbody tr th:only-of-type {\n",
       "        vertical-align: middle;\n",
       "    }\n",
       "\n",
       "    .dataframe tbody tr th {\n",
       "        vertical-align: top;\n",
       "    }\n",
       "\n",
       "    .dataframe thead th {\n",
       "        text-align: right;\n",
       "    }\n",
       "</style>\n",
       "<table border=\"1\" class=\"dataframe\">\n",
       "  <thead>\n",
       "    <tr style=\"text-align: right;\">\n",
       "      <th></th>\n",
       "      <th>symbol</th>\n",
       "      <th>BS</th>\n",
       "      <th>CRR N=100</th>\n",
       "      <th>CRR N=500</th>\n",
       "    </tr>\n",
       "  </thead>\n",
       "  <tbody>\n",
       "    <tr>\n",
       "      <th>0</th>\n",
       "      <td>BTC-250821-115000-C</td>\n",
       "      <td>169.949788</td>\n",
       "      <td>169.294495</td>\n",
       "      <td>169.96617</td>\n",
       "    </tr>\n",
       "  </tbody>\n",
       "</table>\n",
       "</div>"
      ],
      "text/plain": [
       "                symbol          BS   CRR N=100  CRR N=500\n",
       "0  BTC-250821-115000-C  169.949788  169.294495  169.96617"
      ]
     },
     "execution_count": 8,
     "metadata": {},
     "output_type": "execute_result"
    }
   ],
   "source": [
    "\n",
    "row = sample_row\n",
    "bs = bs_price(spot, row[\"K\"], row[\"r\"], row[\"q\"], row[\"markIV\"], row[\"T\"], row[\"opt\"])\n",
    "b100 = crr_binomial_price(spot, row[\"K\"], row[\"r\"], row[\"q\"], row[\"markIV\"], row[\"T\"], 100, row[\"opt\"])\n",
    "b500 = crr_binomial_price(spot, row[\"K\"], row[\"r\"], row[\"q\"], row[\"markIV\"], row[\"T\"], 500, row[\"opt\"])\n",
    "pd.DataFrame([{\"symbol\": row[\"symbol\"], \"BS\": bs, \"CRR N=100\": b100, \"CRR N=500\": b500}])\n"
   ]
  },
  {
   "cell_type": "markdown",
   "id": "7a4bc5eb",
   "metadata": {},
   "source": [
    "## 6) Monte Carlo cross‑check"
   ]
  },
  {
   "cell_type": "code",
   "execution_count": 9,
   "id": "f9fd628a",
   "metadata": {},
   "outputs": [
    {
     "data": {
      "application/vnd.microsoft.datawrangler.viewer.v0+json": {
       "columns": [
        {
         "name": "index",
         "rawType": "int64",
         "type": "integer"
        },
        {
         "name": "symbol",
         "rawType": "object",
         "type": "string"
        },
        {
         "name": "Black–Scholes",
         "rawType": "float64",
         "type": "float"
        },
        {
         "name": "Monte Carlo (200k)",
         "rawType": "float64",
         "type": "float"
        },
        {
         "name": "Diff",
         "rawType": "float64",
         "type": "float"
        }
       ],
       "ref": "ce4c89d1-ea94-474a-b53e-92d1a11fc0dd",
       "rows": [
        [
         "0",
         "BTC-250821-115000-C",
         "169.94978809543318",
         "170.98079269608743",
         "1.0310046006542564"
        ]
       ],
       "shape": {
        "columns": 4,
        "rows": 1
       }
      },
      "text/html": [
       "<div>\n",
       "<style scoped>\n",
       "    .dataframe tbody tr th:only-of-type {\n",
       "        vertical-align: middle;\n",
       "    }\n",
       "\n",
       "    .dataframe tbody tr th {\n",
       "        vertical-align: top;\n",
       "    }\n",
       "\n",
       "    .dataframe thead th {\n",
       "        text-align: right;\n",
       "    }\n",
       "</style>\n",
       "<table border=\"1\" class=\"dataframe\">\n",
       "  <thead>\n",
       "    <tr style=\"text-align: right;\">\n",
       "      <th></th>\n",
       "      <th>symbol</th>\n",
       "      <th>Black–Scholes</th>\n",
       "      <th>Monte Carlo (200k)</th>\n",
       "      <th>Diff</th>\n",
       "    </tr>\n",
       "  </thead>\n",
       "  <tbody>\n",
       "    <tr>\n",
       "      <th>0</th>\n",
       "      <td>BTC-250821-115000-C</td>\n",
       "      <td>169.949788</td>\n",
       "      <td>170.980793</td>\n",
       "      <td>1.031005</td>\n",
       "    </tr>\n",
       "  </tbody>\n",
       "</table>\n",
       "</div>"
      ],
      "text/plain": [
       "                symbol  Black–Scholes  Monte Carlo (200k)      Diff\n",
       "0  BTC-250821-115000-C     169.949788          170.980793  1.031005"
      ]
     },
     "execution_count": 9,
     "metadata": {},
     "output_type": "execute_result"
    }
   ],
   "source": [
    "\n",
    "mc = mc_price(spot, row[\"K\"], row[\"r\"], row[\"q\"], row[\"markIV\"], row[\"T\"], n_paths=200_000, opt=row[\"opt\"])\n",
    "pd.DataFrame([{\"symbol\": row[\"symbol\"], \"Black–Scholes\": bs, \"Monte Carlo (200k)\": mc, \"Diff\": mc - bs}])\n"
   ]
  },
  {
   "cell_type": "markdown",
   "id": "f4124fbc",
   "metadata": {},
   "source": [
    "## 7) Scenario: price vs underlying\n",
    "\n",
    "Hold IV and time fixed; vary the underlying ±20% to see the option price sensitivity."
   ]
  },
  {
   "cell_type": "code",
   "execution_count": 10,
   "id": "6e1a2f87",
   "metadata": {},
   "outputs": [
    {
     "data": {
      "image/png": "[encoded data removed]",
      "text/plain": [
       "<Figure size 640x480 with 1 Axes>"
      ]
     },
     "metadata": {},
     "output_type": "display_data"
    }
   ],
   "source": [
    "\n",
    "Ss = np.linspace(0.8 * spot, 1.2 * spot, 25)\n",
    "prices = [bs_price(S, row[\"K\"], row[\"r\"], row[\"q\"], row[\"markIV\"], row[\"T\"], row[\"opt\"]) for S in Ss]\n",
    "\n",
    "plt.figure()\n",
    "plt.plot(Ss, prices)\n",
    "plt.title(f\"Scenario — Price vs Underlying for {row['symbol']}\")\n",
    "plt.xlabel(\"Underlying Price\")\n",
    "plt.ylabel(\"Option Price\")\n",
    "plt.show()\n"
   ]
  },
  {
   "cell_type": "markdown",
   "id": "ebaf15ea",
   "metadata": {},
   "source": [
    "---\n",
    "\n",
    "### References\n",
    "\n",
    "- **Option Mark Price**: `GET /eapi/v1/mark` — returns mark price, IVs, and Greeks.  \n",
    "- **Exchange Information**: `GET /eapi/v1/exchangeInfo` — list of symbols, filters.  \n",
    "- **Index (Spot) Price for Underlying**: `GET /eapi/v1/index` — spot index of the underlying.\n",
    "\n",
    "See Binance Options API docs."
   ]
  }
 ],
 "metadata": {
  "kernelspec": {
   "display_name": ".venv",
   "language": "python",
   "name": "python3"
  },
  "language_info": {
   "codemirror_mode": {
    "name": "ipython",
    "version": 3
   },
   "file_extension": ".py",
   "mimetype": "text/x-python",
   "name": "python",
   "nbconvert_exporter": "python",
   "pygments_lexer": "ipython3",
   "version": "3.12.2"
  }
 },
 "nbformat": 4,
 "nbformat_minor": 5
}
